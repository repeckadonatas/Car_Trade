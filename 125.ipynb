{
 "cells": [
  {
   "cell_type": "markdown",
   "metadata": {},
   "source": [
    "# Module 1: Introduction to Data Engineering"
   ]
  },
  {
   "cell_type": "markdown",
   "metadata": {},
   "source": [
    "## Sprint 2: Introduction to Relational Databases & SQL Basics"
   ]
  },
  {
   "cell_type": "markdown",
   "metadata": {},
   "source": [
    "## Part 5: Introduction to Relational Databases V"
   ]
  },
  {
   "cell_type": "markdown",
   "metadata": {},
   "source": [
    "## New Additions to the Project Review Process\n",
    "\n",
    "This is your second Sprint Project which will require reviewing.\n",
    "There will be a new thing introduced in this Sprint Project - to be considered complete it will require you to get at least two corrections.\n",
    "These corrections are performed by STLs and your peer learners, and yes, you might be asked to perform these corrections for your peers as well.\n",
    "Important: at least one of the corrections must be by an STL.\n",
    "\n",
    "The peer corrections have a much smaller weight compared to STLs when calculating the final score of a project (the passing score is 70% or more) — so as a learner, who is performing a correction, you should not worry about giving a score, which perfectly represents the quality of the project - just try to be objective and fair.\n",
    "\n",
    "When booking a peer correction, you might get an STL if there are no learners available.\n",
    "This will result in both corrections being performed by an STL.\n",
    "The same STL, however, cannot perform both corrections.\n",
    "\n",
    "To become available to review others' projects yourself, you should click on the \"My Availability\" button in the top left corner of the Turing platform.\n",
    "By doing these corrections, you will receive correction points which you will need to receive further corrections yourself.\n",
    "Correction points are used every time you book a peer or STL review.\n",
    "You should set your availability once you complete this project, as you will then be able to start reviewing other learners who still need to complete this project.\n",
    "\n",
    "A learner can become a reviewer for a project when they have successfully passed the corrections for that Sprint themselves.\n",
    "\n",
    "## About this Part\n",
    "\n",
    "Congrats!\n",
    "You completed almost all assignments and tasks of this Sprint.\n",
    "You did a great job.\n",
    "In this Part, you will need to apply the skills that you learned in the Sprint to complete your Sprint Project.\n",
    "\n",
    "Reminder: the Sprint Projects occasionally require you to use skills, tools, techniques, etc. that were not covered during the Sprint. This is by design - true mastery only comes, when you can identify what skills you need to solve a certain problem and aquire these skills, if you don't have them.\n",
    "\n",
    "P.S. we don't expect this project to be perfect - you will continue to improve your skills and there will be many projects for you to apply your newly gained skills in the future.\n",
    "For now just use what you have learned and try your best!\n",
    "\n",
    "## Objectives\n",
    "\n",
    "- Practice setting up a MySQL or Postgres database.\n",
    "- Practice ingesting data from CSV files.\n",
    "- Practice normalizing tables.\n",
    "\n",
    "## Context\n",
    "\n",
    "You have just joined a startup that is trading cars, similar to Carvana.\n",
    "You are the first member of a new team that will be responsible for setting up the initial data warehouse intended to be used by data analysts for a launch in an Indian market.\n",
    "Unfortunately, the only data that we have available is that an intern scraped last summer.\n",
    "Your want to place the currently available data into a RDBMS, which would serve for a while as a data warehouse for the data analysts to run their ad-hoc SQL queries.\n",
    "\n",
    "## Requirements\n",
    "\n",
    "- Download the data from [Used Cars Details Dataset](https://www.kaggle.com/datasets/rakkesharv/used-cars-detailed-dataset).\n",
    "- Set up MySQL or Postgres database.\n",
    "- Ingest the data into the database.\n",
    "- Set up an account for a user.\n",
    "- Normalize the data to the 2NF.\n",
    "\n",
    "## Evaluation Criteria\n",
    "\n",
    "- Adherence to the requirements. How well did you meet the requirements?\n",
    "- Code quality. Was your code well-structured? Did you use the correct levels of abstraction? Did you remove commented-out and unused code? Did you adhere to the PEP8?\n",
    "- Code performance. Did you use suitable algorithms and data structures to solve the problems?\n",
    "- Presentation quality. Coherence of the presentation of the project, how well everything is explained.\n",
    "- General understanding of the topic.\n",
    "\n",
    "## Correction\n",
    "\n",
    "During your project correction, you should present your project as if talking to a senior data analyst working in your team.\n",
    "You will have to find the right balance between explaining the business side and the technical aspects of your work.\n",
    "You can assume that both of your colleagues have a strong understanding of and are very interested in the business aspect of your project, so be sure to clearly explain what new insights you've found while analyzing the dataset and which directions look the most promising for further development.\n",
    "However, you should also spend time explaining the technical aspects of your work, especially the more complex or unconventional choices.\n",
    "\n",
    "During a correction, you may get asked questions that test your understanding of covered topics.\n",
    "\n",
    "- What is the purpose of the mapping types in Python?\n",
    "- What are the normal forms of data? How are they different?\n",
    "- What is a materialized view in SQL?\n",
    "- What are aliases in SQL?\n"
   ]
  },
  {
   "cell_type": "markdown",
   "metadata": {},
   "source": [
    "## General Correction Guidelines\n",
    "\n",
    "For an in-depth explanation about how corrections work at Turing College, please read [this doc](https://turingcollege.atlassian.net/wiki/spaces/DLG/pages/537395951/Peer+expert+reviews+corrections).\n"
   ]
  }
 ],
 "metadata": {
  "kernelspec": {
   "display_name": "Python 3",
   "language": "python",
   "name": "python3"
  },
  "language_info": {
   "codemirror_mode": {
    "name": "ipython",
    "version": 3
   },
   "file_extension": ".py",
   "mimetype": "text/x-python",
   "name": "python",
   "nbconvert_exporter": "python",
   "pygments_lexer": "ipython3",
   "version": "3.8.5"
  }
 },
 "nbformat": 4,
 "nbformat_minor": 5
}
